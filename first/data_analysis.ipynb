{
 "cells": [
  {
   "cell_type": "markdown",
   "metadata": {},
   "source": [
    "# Internet of Things - First Challenge\n",
    "Francesco Pastore 10629332\n",
    "\n",
    "1. Dataset analysis\n",
    "2. Time estimation\n",
    "3. Energy consumption\n",
    "4. Test with different duty cycles"
   ]
  },
  {
   "cell_type": "markdown",
   "metadata": {},
   "source": [
    "### Import libraries"
   ]
  },
  {
   "cell_type": "code",
   "execution_count": 1,
   "metadata": {},
   "outputs": [],
   "source": [
    "import pandas as pd\n",
    "import matplotlib.pyplot as plt"
   ]
  },
  {
   "cell_type": "markdown",
   "metadata": {},
   "source": [
    "### Parameters"
   ]
  },
  {
   "cell_type": "code",
   "execution_count": 2,
   "metadata": {},
   "outputs": [],
   "source": [
    "# The duty cycle has been calculated as 32 % 50 + 5 = 37\n",
    "dutyCycle = 37\n",
    "dutyCycle_micros = dutyCycle * 10e+5"
   ]
  },
  {
   "cell_type": "code",
   "execution_count": 3,
   "metadata": {},
   "outputs": [
    {
     "data": {
      "text/plain": [
       "9337000"
      ]
     },
     "execution_count": 3,
     "metadata": {},
     "output_type": "execute_result"
    }
   ],
   "source": [
    "# The battery capacity has been calculated as 9332 + 5 = 9337\n",
    "E_battery = 9332 + 5\n",
    "E_battery_milli = E_battery * 1000\n",
    "E_battery_milli"
   ]
  },
  {
   "cell_type": "markdown",
   "metadata": {},
   "source": [
    "## Dataset analysis"
   ]
  },
  {
   "cell_type": "markdown",
   "metadata": {},
   "source": [
    "### Deep Sleep with Interrupt"
   ]
  },
  {
   "cell_type": "code",
   "execution_count": 4,
   "metadata": {},
   "outputs": [
    {
     "data": {
      "text/html": [
       "<div>\n",
       "<style scoped>\n",
       "    .dataframe tbody tr th:only-of-type {\n",
       "        vertical-align: middle;\n",
       "    }\n",
       "\n",
       "    .dataframe tbody tr th {\n",
       "        vertical-align: top;\n",
       "    }\n",
       "\n",
       "    .dataframe thead th {\n",
       "        text-align: right;\n",
       "    }\n",
       "</style>\n",
       "<table border=\"1\" class=\"dataframe\">\n",
       "  <thead>\n",
       "    <tr style=\"text-align: right;\">\n",
       "      <th></th>\n",
       "      <th>Timestamp</th>\n",
       "      <th>Data</th>\n",
       "    </tr>\n",
       "  </thead>\n",
       "  <tbody>\n",
       "    <tr>\n",
       "      <th>0</th>\n",
       "      <td>2024-03-03 20:14:47.705952</td>\n",
       "      <td>59.89</td>\n",
       "    </tr>\n",
       "    <tr>\n",
       "      <th>1</th>\n",
       "      <td>2024-03-03 20:14:47.756244</td>\n",
       "      <td>59.50</td>\n",
       "    </tr>\n",
       "    <tr>\n",
       "      <th>2</th>\n",
       "      <td>2024-03-03 20:14:47.805842</td>\n",
       "      <td>59.82</td>\n",
       "    </tr>\n",
       "    <tr>\n",
       "      <th>3</th>\n",
       "      <td>2024-03-03 20:14:47.856038</td>\n",
       "      <td>59.07</td>\n",
       "    </tr>\n",
       "    <tr>\n",
       "      <th>4</th>\n",
       "      <td>2024-03-03 20:14:47.905728</td>\n",
       "      <td>60.11</td>\n",
       "    </tr>\n",
       "  </tbody>\n",
       "</table>\n",
       "</div>"
      ],
      "text/plain": [
       "                    Timestamp   Data\n",
       "0  2024-03-03 20:14:47.705952  59.89\n",
       "1  2024-03-03 20:14:47.756244  59.50\n",
       "2  2024-03-03 20:14:47.805842  59.82\n",
       "3  2024-03-03 20:14:47.856038  59.07\n",
       "4  2024-03-03 20:14:47.905728  60.11"
      ]
     },
     "execution_count": 4,
     "metadata": {},
     "output_type": "execute_result"
    }
   ],
   "source": [
    "df_deep_sleep = pd.read_csv('deep_sleep.csv')\n",
    "df_deep_sleep.head()"
   ]
  },
  {
   "cell_type": "code",
   "execution_count": 5,
   "metadata": {},
   "outputs": [
    {
     "data": {
      "text/plain": [
       "<AxesSubplot:title={'center':'Deep Sleep with Interrupt'}, xlabel='time', ylabel='P'>"
      ]
     },
     "execution_count": 5,
     "metadata": {},
     "output_type": "execute_result"
    },
    {
     "data": {
      "image/png": "[encoded data removed]",
      "text/plain": [
       "<Figure size 432x288 with 1 Axes>"
      ]
     },
     "metadata": {
      "needs_background": "light"
     },
     "output_type": "display_data"
    }
   ],
   "source": [
    "df_deep_sleep.plot(xlabel=\"time\", ylabel=\"P\", title=\"Deep Sleep with Interrupt\", kind=\"line\", legend=False)"
   ]
  },
  {
   "cell_type": "code",
   "execution_count": 6,
   "metadata": {},
   "outputs": [
    {
     "data": {
      "text/plain": [
       "310.97"
      ]
     },
     "execution_count": 6,
     "metadata": {},
     "output_type": "execute_result"
    }
   ],
   "source": [
    "# P_i\n",
    "# Calculate the average power consumption during the idle state\n",
    "# Values are between 300 and 350\n",
    "df = df_deep_sleep['Data']\n",
    "P_i = df[df > 300][df < 350].mean().round(2)\n",
    "P_i"
   ]
  },
  {
   "cell_type": "code",
   "execution_count": 7,
   "metadata": {},
   "outputs": [
    {
     "data": {
      "text/plain": [
       "59.62"
      ]
     },
     "execution_count": 7,
     "metadata": {},
     "output_type": "execute_result"
    }
   ],
   "source": [
    "# P_dp\n",
    "# Calculate the average power consumption during the deep sleep state\n",
    "# Values are below 70\n",
    "df = df_deep_sleep['Data']\n",
    "P_dp = df[df < 70].mean().round(2)\n",
    "P_dp"
   ]
  },
  {
   "cell_type": "markdown",
   "metadata": {},
   "source": [
    "### Sensor Reading"
   ]
  },
  {
   "cell_type": "code",
   "execution_count": 8,
   "metadata": {},
   "outputs": [
    {
     "data": {
      "text/html": [
       "<div>\n",
       "<style scoped>\n",
       "    .dataframe tbody tr th:only-of-type {\n",
       "        vertical-align: middle;\n",
       "    }\n",
       "\n",
       "    .dataframe tbody tr th {\n",
       "        vertical-align: top;\n",
       "    }\n",
       "\n",
       "    .dataframe thead th {\n",
       "        text-align: right;\n",
       "    }\n",
       "</style>\n",
       "<table border=\"1\" class=\"dataframe\">\n",
       "  <thead>\n",
       "    <tr style=\"text-align: right;\">\n",
       "      <th></th>\n",
       "      <th>Timestamp</th>\n",
       "      <th>Data</th>\n",
       "    </tr>\n",
       "  </thead>\n",
       "  <tbody>\n",
       "    <tr>\n",
       "      <th>0</th>\n",
       "      <td>2024-03-03 20:24:46.935040</td>\n",
       "      <td>467.11</td>\n",
       "    </tr>\n",
       "    <tr>\n",
       "      <th>1</th>\n",
       "      <td>2024-03-03 20:24:46.984494</td>\n",
       "      <td>466.25</td>\n",
       "    </tr>\n",
       "    <tr>\n",
       "      <th>2</th>\n",
       "      <td>2024-03-03 20:24:47.034875</td>\n",
       "      <td>466.68</td>\n",
       "    </tr>\n",
       "    <tr>\n",
       "      <th>3</th>\n",
       "      <td>2024-03-03 20:24:47.085240</td>\n",
       "      <td>466.54</td>\n",
       "    </tr>\n",
       "    <tr>\n",
       "      <th>4</th>\n",
       "      <td>2024-03-03 20:24:47.134709</td>\n",
       "      <td>466.65</td>\n",
       "    </tr>\n",
       "  </tbody>\n",
       "</table>\n",
       "</div>"
      ],
      "text/plain": [
       "                    Timestamp    Data\n",
       "0  2024-03-03 20:24:46.935040  467.11\n",
       "1  2024-03-03 20:24:46.984494  466.25\n",
       "2  2024-03-03 20:24:47.034875  466.68\n",
       "3  2024-03-03 20:24:47.085240  466.54\n",
       "4  2024-03-03 20:24:47.134709  466.65"
      ]
     },
     "execution_count": 8,
     "metadata": {},
     "output_type": "execute_result"
    }
   ],
   "source": [
    "df_read_sensor = pd.read_csv('read_sensor.csv')\n",
    "df_read_sensor.head()"
   ]
  },
  {
   "cell_type": "code",
   "execution_count": 9,
   "metadata": {},
   "outputs": [
    {
     "data": {
      "text/plain": [
       "<AxesSubplot:title={'center':'Sensor Reading'}, xlabel='time', ylabel='P'>"
      ]
     },
     "execution_count": 9,
     "metadata": {},
     "output_type": "execute_result"
    },
    {
     "data": {
      "image/png": "[encoded data removed]",
      "text/plain": [
       "<Figure size 432x288 with 1 Axes>"
      ]
     },
     "metadata": {
      "needs_background": "light"
     },
     "output_type": "display_data"
    }
   ],
   "source": [
    "df_read_sensor.plot(xlabel=\"time\", ylabel=\"P\", title=\"Sensor Reading\", kind=\"line\", legend=False)"
   ]
  },
  {
   "cell_type": "code",
   "execution_count": 10,
   "metadata": {},
   "outputs": [
    {
     "data": {
      "text/plain": [
       "466.74"
      ]
     },
     "execution_count": 10,
     "metadata": {},
     "output_type": "execute_result"
    }
   ],
   "source": [
    "# P_sr\n",
    "# Calculate the average power consumption during the sensor reading state\n",
    "# Values are above 460\n",
    "df = df_read_sensor['Data']\n",
    "P_sr = df[df > 460].mean().round(2)\n",
    "P_sr"
   ]
  },
  {
   "cell_type": "markdown",
   "metadata": {},
   "source": [
    "### Transmission power"
   ]
  },
  {
   "cell_type": "code",
   "execution_count": 11,
   "metadata": {},
   "outputs": [
    {
     "data": {
      "text/html": [
       "<div>\n",
       "<style scoped>\n",
       "    .dataframe tbody tr th:only-of-type {\n",
       "        vertical-align: middle;\n",
       "    }\n",
       "\n",
       "    .dataframe tbody tr th {\n",
       "        vertical-align: top;\n",
       "    }\n",
       "\n",
       "    .dataframe thead th {\n",
       "        text-align: right;\n",
       "    }\n",
       "</style>\n",
       "<table border=\"1\" class=\"dataframe\">\n",
       "  <thead>\n",
       "    <tr style=\"text-align: right;\">\n",
       "      <th></th>\n",
       "      <th>Timestamp</th>\n",
       "      <th>Data</th>\n",
       "    </tr>\n",
       "  </thead>\n",
       "  <tbody>\n",
       "    <tr>\n",
       "      <th>0</th>\n",
       "      <td>2024-03-03 19:04:29.955113</td>\n",
       "      <td>704.75</td>\n",
       "    </tr>\n",
       "    <tr>\n",
       "      <th>1</th>\n",
       "      <td>2024-03-03 19:04:30.005088</td>\n",
       "      <td>703.82</td>\n",
       "    </tr>\n",
       "    <tr>\n",
       "      <th>2</th>\n",
       "      <td>2024-03-03 19:04:30.054739</td>\n",
       "      <td>704.65</td>\n",
       "    </tr>\n",
       "    <tr>\n",
       "      <th>3</th>\n",
       "      <td>2024-03-03 19:04:30.105067</td>\n",
       "      <td>704.07</td>\n",
       "    </tr>\n",
       "    <tr>\n",
       "      <th>4</th>\n",
       "      <td>2024-03-03 19:04:30.154501</td>\n",
       "      <td>705.35</td>\n",
       "    </tr>\n",
       "  </tbody>\n",
       "</table>\n",
       "</div>"
      ],
      "text/plain": [
       "                    Timestamp    Data\n",
       "0  2024-03-03 19:04:29.955113  704.75\n",
       "1  2024-03-03 19:04:30.005088  703.82\n",
       "2  2024-03-03 19:04:30.054739  704.65\n",
       "3  2024-03-03 19:04:30.105067  704.07\n",
       "4  2024-03-03 19:04:30.154501  705.35"
      ]
     },
     "execution_count": 11,
     "metadata": {},
     "output_type": "execute_result"
    }
   ],
   "source": [
    "df_send_different_TX = pd.read_csv('send_different_TX.csv')\n",
    "df_send_different_TX.head()"
   ]
  },
  {
   "cell_type": "code",
   "execution_count": 12,
   "metadata": {},
   "outputs": [
    {
     "data": {
      "text/plain": [
       "<AxesSubplot:title={'center':'Transmission power'}, xlabel='time', ylabel='P'>"
      ]
     },
     "execution_count": 12,
     "metadata": {},
     "output_type": "execute_result"
    },
    {
     "data": {
      "image/png": "[encoded data removed]",
      "text/plain": [
       "<Figure size 432x288 with 1 Axes>"
      ]
     },
     "metadata": {
      "needs_background": "light"
     },
     "output_type": "display_data"
    }
   ],
   "source": [
    "df_send_different_TX.plot(xlabel=\"time\", ylabel=\"P\", title=\"Transmission power\", kind=\"line\", legend=False)"
   ]
  },
  {
   "cell_type": "code",
   "execution_count": 13,
   "metadata": {},
   "outputs": [
    {
     "data": {
      "text/plain": [
       "797.29"
      ]
     },
     "execution_count": 13,
     "metadata": {},
     "output_type": "execute_result"
    }
   ],
   "source": [
    "# P_tx\n",
    "# Calculate the average power consumption during the transmission state at 2 dBm\n",
    "# Values are between 750 and 850\n",
    "df = df_send_different_TX['Data']\n",
    "P_tx = df[df > 750][df < 850].mean().round(2)\n",
    "P_tx"
   ]
  },
  {
   "cell_type": "code",
   "execution_count": 14,
   "metadata": {},
   "outputs": [
    {
     "data": {
      "text/plain": [
       "704.22"
      ]
     },
     "execution_count": 14,
     "metadata": {},
     "output_type": "execute_result"
    }
   ],
   "source": [
    "# P_wf\n",
    "# Calculate the average power consumption during the WiFi on state\n",
    "# Values are below 730\n",
    "df = df_send_different_TX['Data']\n",
    "P_wf = df[df < 730].mean().round(2)\n",
    "P_wf"
   ]
  },
  {
   "cell_type": "markdown",
   "metadata": {},
   "source": [
    "### Final results for power consumption"
   ]
  },
  {
   "cell_type": "code",
   "execution_count": 15,
   "metadata": {},
   "outputs": [
    {
     "name": "stdout",
     "output_type": "stream",
     "text": [
      "P_dp = 59.62 mW \t Power in deep sleep state\n",
      "P_i = 310.97 mW \t Power in idle state\n",
      "P_sr = 466.74 mW \t Power for sensor reading\n",
      "P_wf = 704.22 mW \t Power when WiFi is on\n",
      "P_tx = 797.29 mW \t Power for trasmission at 2 dBm  \n"
     ]
    }
   ],
   "source": [
    "print(\"P_dp = %.2f mW \\t Power in deep sleep state\" % P_dp)\n",
    "print(\"P_i = %.2f mW \\t Power in idle state\" % P_i)\n",
    "print(\"P_sr = %.2f mW \\t Power for sensor reading\" % P_sr)\n",
    "print(\"P_wf = %.2f mW \\t Power when WiFi is on\" % P_wf)\n",
    "print(\"P_tx = %.2f mW \\t Power for trasmission at 2 dBm  \" % P_tx)"
   ]
  },
  {
   "cell_type": "code",
   "execution_count": 16,
   "metadata": {},
   "outputs": [
    {
     "data": {
      "text/plain": [
       "{'P_dp': 59.62, 'P_i': 310.97, 'P_sr': 466.74, 'P_wf': 704.22, 'P_tx': 797.29}"
      ]
     },
     "execution_count": 16,
     "metadata": {},
     "output_type": "execute_result"
    }
   ],
   "source": [
    "# Create a dictionary with the calculated powers\n",
    "# for drawing the power consumption graph\n",
    "dict_powers = {\n",
    "    \"P_dp\": P_dp,\n",
    "    \"P_i\": P_i,\n",
    "    \"P_sr\": P_sr,\n",
    "    \"P_wf\": P_wf,\n",
    "    \"P_tx\": P_tx,\n",
    "}\n",
    "dict_powers"
   ]
  },
  {
   "cell_type": "code",
   "execution_count": 17,
   "metadata": {},
   "outputs": [
    {
     "data": {
      "text/html": [
       "<div>\n",
       "<style scoped>\n",
       "    .dataframe tbody tr th:only-of-type {\n",
       "        vertical-align: middle;\n",
       "    }\n",
       "\n",
       "    .dataframe tbody tr th {\n",
       "        vertical-align: top;\n",
       "    }\n",
       "\n",
       "    .dataframe thead th {\n",
       "        text-align: right;\n",
       "    }\n",
       "</style>\n",
       "<table border=\"1\" class=\"dataframe\">\n",
       "  <thead>\n",
       "    <tr style=\"text-align: right;\">\n",
       "      <th></th>\n",
       "      <th>P_dp</th>\n",
       "      <th>P_i</th>\n",
       "      <th>P_sr</th>\n",
       "      <th>P_wf</th>\n",
       "      <th>P_tx</th>\n",
       "    </tr>\n",
       "  </thead>\n",
       "  <tbody>\n",
       "    <tr>\n",
       "      <th>0</th>\n",
       "      <td>59.62</td>\n",
       "      <td>310.97</td>\n",
       "      <td>466.74</td>\n",
       "      <td>704.22</td>\n",
       "      <td>797.29</td>\n",
       "    </tr>\n",
       "  </tbody>\n",
       "</table>\n",
       "</div>"
      ],
      "text/plain": [
       "    P_dp     P_i    P_sr    P_wf    P_tx\n",
       "0  59.62  310.97  466.74  704.22  797.29"
      ]
     },
     "execution_count": 17,
     "metadata": {},
     "output_type": "execute_result"
    }
   ],
   "source": [
    "df_power = pd.DataFrame(dict_powers, index=[0])\n",
    "df_power"
   ]
  },
  {
   "cell_type": "code",
   "execution_count": 18,
   "metadata": {},
   "outputs": [
    {
     "data": {
      "image/png": "[encoded data removed]",
      "text/plain": [
       "<Figure size 576x576 with 1 Axes>"
      ]
     },
     "metadata": {},
     "output_type": "display_data"
    }
   ],
   "source": [
    "# Extract labels and values from the dictionary\n",
    "labels = list(dict_powers.keys())\n",
    "values = list(dict_powers.values())\n",
    "\n",
    "# Define colors for bars\n",
    "colors = [(1, 0, 0), (0, 1, 0), (0, 0, 1), (1, 0.65, 0), (0.5, 0, 0.5)]\n",
    "\n",
    "# Plot pie chart\n",
    "plt.figure(figsize=(8, 8), facecolor='white')\n",
    "plt.bar(labels, values, color=colors)\n",
    "\n",
    "# x-axis represents the states\n",
    "plt.xlabel('state')\n",
    "\n",
    "# y-axis represents the power consumption in mW\n",
    "plt.ylabel('P')\n",
    "\n",
    "# Set title\n",
    "plt.title('Power consumption', fontsize=16, pad=20)\n",
    "\n",
    "# Show plot\n",
    "plt.show()"
   ]
  },
  {
   "cell_type": "markdown",
   "metadata": {},
   "source": [
    "## Time Estimation"
   ]
  },
  {
   "cell_type": "markdown",
   "metadata": {},
   "source": [
    "### Project timing"
   ]
  },
  {
   "cell_type": "code",
   "execution_count": 19,
   "metadata": {},
   "outputs": [
    {
     "data": {
      "text/html": [
       "<div>\n",
       "<style scoped>\n",
       "    .dataframe tbody tr th:only-of-type {\n",
       "        vertical-align: middle;\n",
       "    }\n",
       "\n",
       "    .dataframe tbody tr th {\n",
       "        vertical-align: top;\n",
       "    }\n",
       "\n",
       "    .dataframe thead th {\n",
       "        text-align: right;\n",
       "    }\n",
       "</style>\n",
       "<table border=\"1\" class=\"dataframe\">\n",
       "  <thead>\n",
       "    <tr style=\"text-align: right;\">\n",
       "      <th></th>\n",
       "      <th>Micros</th>\n",
       "      <th>Step</th>\n",
       "    </tr>\n",
       "  </thead>\n",
       "  <tbody>\n",
       "    <tr>\n",
       "      <th>0</th>\n",
       "      <td>0</td>\n",
       "      <td>Boot</td>\n",
       "    </tr>\n",
       "    <tr>\n",
       "      <th>1</th>\n",
       "      <td>310</td>\n",
       "      <td>Sensor Reading On</td>\n",
       "    </tr>\n",
       "    <tr>\n",
       "      <th>2</th>\n",
       "      <td>1183</td>\n",
       "      <td>Sensor Reading Off</td>\n",
       "    </tr>\n",
       "    <tr>\n",
       "      <th>3</th>\n",
       "      <td>176521</td>\n",
       "      <td>WiFi On</td>\n",
       "    </tr>\n",
       "    <tr>\n",
       "      <th>4</th>\n",
       "      <td>177982</td>\n",
       "      <td>TX On</td>\n",
       "    </tr>\n",
       "  </tbody>\n",
       "</table>\n",
       "</div>"
      ],
      "text/plain": [
       "   Micros                Step\n",
       "0       0                Boot\n",
       "1     310   Sensor Reading On\n",
       "2    1183  Sensor Reading Off\n",
       "3  176521             WiFi On\n",
       "4  177982               TX On"
      ]
     },
     "execution_count": 19,
     "metadata": {},
     "output_type": "execute_result"
    }
   ],
   "source": [
    "df_project_time = pd.read_csv('project_time.csv')\n",
    "df_project_time.head()"
   ]
  },
  {
   "cell_type": "code",
   "execution_count": 20,
   "metadata": {},
   "outputs": [
    {
     "data": {
      "text/plain": [
       "{'Boot': 0.0,\n",
       " 'Sensor Reading On': 378.14,\n",
       " 'Sensor Reading Off': 1294.38,\n",
       " 'WiFi On': 246436.24,\n",
       " 'TX On': 248042.14,\n",
       " 'TX Off': 248531.43,\n",
       " 'WiFi Off': 255482.43,\n",
       " 'Deep sleep': 257070.71}"
      ]
     },
     "execution_count": 20,
     "metadata": {},
     "output_type": "execute_result"
    }
   ],
   "source": [
    "# Calculate the average time for each state\n",
    "df = df_project_time\n",
    "df = df.groupby(['Step'])['Micros'].mean().round(2).reset_index()\n",
    "df = df.sort_values('Micros')\n",
    "t = pd.Series(data=df['Micros'].values,index=df['Step']).to_dict()\n",
    "t"
   ]
  },
  {
   "cell_type": "code",
   "execution_count": 21,
   "metadata": {},
   "outputs": [
    {
     "data": {
      "text/plain": [
       "247108.28"
      ]
     },
     "execution_count": 21,
     "metadata": {},
     "output_type": "execute_result"
    }
   ],
   "source": [
    "# The time in idle state is the sum of the time in the three idle states\n",
    "\n",
    "# 1. From the boot to the sensor reading\n",
    "T_idle_1 = t['Sensor Reading On']\n",
    "\n",
    "# 2. From the sensor reading to the WiFi on\n",
    "T_idle_2 =  t['WiFi On'] - t['Sensor Reading Off']\n",
    "\n",
    "# 3. From the WiFi on to the deep sleep\n",
    "T_idle_3 = t['Deep sleep'] - t['WiFi Off']\n",
    "\n",
    "# Calculate the total time in idle state\n",
    "T_i = T_idle_1 + T_idle_2 + T_idle_3\n",
    "T_i = round(T_i, 2)\n",
    "T_i"
   ]
  },
  {
   "cell_type": "code",
   "execution_count": 22,
   "metadata": {},
   "outputs": [
    {
     "data": {
      "text/plain": [
       "8556.9"
      ]
     },
     "execution_count": 22,
     "metadata": {},
     "output_type": "execute_result"
    }
   ],
   "source": [
    "# The time with wifi on is the sum of the time in the two wifi on states\n",
    "\n",
    "# 1. From the transmission to the WiFi on\n",
    "T_WiFi_On_1 = t['TX On'] - t['WiFi On']\n",
    "\n",
    "# 2. From the WiFi on to the deep sleep\n",
    "T_WiFi_On_2 = t['WiFi Off'] - t['TX Off']\n",
    "\n",
    "# Calculate the total time with wifi on\n",
    "T_wf = T_WiFi_On_1 + T_WiFi_On_2\n",
    "T_wf = round(T_wf, 2)\n",
    "T_wf"
   ]
  },
  {
   "cell_type": "code",
   "execution_count": 23,
   "metadata": {},
   "outputs": [
    {
     "data": {
      "text/plain": [
       "916.24"
      ]
     },
     "execution_count": 23,
     "metadata": {},
     "output_type": "execute_result"
    }
   ],
   "source": [
    "# The time for the sensor reading is the difference between the sensor reading off and on\n",
    "T_sr = t['Sensor Reading Off'] - t['Sensor Reading On']\n",
    "T_sr = round(T_sr, 2)\n",
    "T_sr"
   ]
  },
  {
   "cell_type": "code",
   "execution_count": 24,
   "metadata": {},
   "outputs": [
    {
     "data": {
      "text/plain": [
       "489.29"
      ]
     },
     "execution_count": 24,
     "metadata": {},
     "output_type": "execute_result"
    }
   ],
   "source": [
    "# The time for the transmission is the difference between the transmission off and on\n",
    "T_tx = t['TX Off'] - t['TX On']\n",
    "T_tx = round(T_tx, 2)\n",
    "T_tx"
   ]
  },
  {
   "cell_type": "code",
   "execution_count": 25,
   "metadata": {},
   "outputs": [
    {
     "data": {
      "text/plain": [
       "36742929.29"
      ]
     },
     "execution_count": 25,
     "metadata": {},
     "output_type": "execute_result"
    }
   ],
   "source": [
    "# Calculate the time spent in deep sleep mode\n",
    "# as the remaining time after the sum of the other states\n",
    "T_dp = dutyCycle_micros - t['Deep sleep']\n",
    "T_dp"
   ]
  },
  {
   "cell_type": "code",
   "execution_count": 26,
   "metadata": {},
   "outputs": [
    {
     "data": {
      "text/plain": [
       "257070.71"
      ]
     },
     "execution_count": 26,
     "metadata": {},
     "output_type": "execute_result"
    }
   ],
   "source": [
    "# Calculate the active time as the sum of all the states except the deep sleep state\n",
    "T_active = T_i + T_sr + T_tx + T_wf\n",
    "T_active"
   ]
  },
  {
   "cell_type": "code",
   "execution_count": 27,
   "metadata": {},
   "outputs": [
    {
     "data": {
      "text/plain": [
       "(37000000.0, False)"
      ]
     },
     "execution_count": 27,
     "metadata": {},
     "output_type": "execute_result"
    }
   ],
   "source": [
    "# Calculate the total time as the sum of the deep sleep time and the active time\n",
    "T_tot = T_dp + T_active\n",
    "T_tot = round(T_tot, 2)\n",
    "T_tot, T_tot == dutyCycle"
   ]
  },
  {
   "cell_type": "markdown",
   "metadata": {},
   "source": [
    "### Final results for time calculation"
   ]
  },
  {
   "cell_type": "code",
   "execution_count": 28,
   "metadata": {},
   "outputs": [
    {
     "name": "stdout",
     "output_type": "stream",
     "text": [
      "T_i = 247108.28 us \t Time when the device is idle\n",
      "T_sr = 916.24 us \t Time when the device executes a new reading with the sensor\n",
      "T_wf = 8556.90 us \t Time when the WiFi is on and no TX\n",
      "T_tx = 489.29 us \t Time for trasmission at 2 dBm\n",
      "T_active = 257070.71 us \t Time when the device is active\n",
      "T_dp = 36742929.29 us \t Time when the device is in deep sleep\n",
      "T_tot = 37000000.00 us \t Total time (duty cycle)\n"
     ]
    }
   ],
   "source": [
    "print(\"T_i = %.2f us \\t Time when the device is idle\" % T_i)\n",
    "print(\"T_sr = %.2f us \\t Time when the device executes a new reading with the sensor\" % T_sr)\n",
    "print(\"T_wf = %.2f us \\t Time when the WiFi is on and no TX\" % T_wf)\n",
    "print(\"T_tx = %.2f us \\t Time for trasmission at 2 dBm\" % T_tx)\n",
    "print(\"T_active = %.2f us \\t Time when the device is active\" % T_active)\n",
    "print(\"T_dp = %.2f us \\t Time when the device is in deep sleep\" % T_dp)\n",
    "print(\"T_tot = %.2f us \\t Total time (duty cycle)\" % T_tot)"
   ]
  },
  {
   "cell_type": "code",
   "execution_count": 29,
   "metadata": {},
   "outputs": [
    {
     "data": {
      "text/plain": [
       "{'T_active': 257070.71, 'T_dp': 36742929.29}"
      ]
     },
     "execution_count": 29,
     "metadata": {},
     "output_type": "execute_result"
    }
   ],
   "source": [
    "# Create a dictionary with the calculated times\n",
    "# for drawing the time estimation graph\n",
    "dict_times = {\n",
    "    \"T_active\": T_active,\n",
    "    \"T_dp\": T_dp,\n",
    "}\n",
    "dict_times"
   ]
  },
  {
   "cell_type": "code",
   "execution_count": 30,
   "metadata": {},
   "outputs": [
    {
     "data": {
      "image/png": "[encoded data removed]",
      "text/plain": [
       "<Figure size 576x576 with 1 Axes>"
      ]
     },
     "metadata": {},
     "output_type": "display_data"
    }
   ],
   "source": [
    "# Extract labels and values from the dictionary\n",
    "labels = list(dict_times.keys())\n",
    "values = list(dict_times.values())\n",
    "\n",
    "# Define colors for bars\n",
    "colors = [(1, 0, 0), (0, 0, 1)]\n",
    "\n",
    "# Plot pie chart\n",
    "plt.figure(figsize=(8, 8), facecolor='white')\n",
    "plt.bar(labels, values, color=colors)\n",
    "\n",
    "# Set aspect ratio to be equal to ensure pie is drawn as a circle.\n",
    "plt.xlabel('state')\n",
    "plt.ylabel('t [us]')\n",
    "plt.title('Time estimation', fontsize=16, pad=20)\n",
    "\n",
    "# Show plot\n",
    "plt.show()"
   ]
  },
  {
   "cell_type": "markdown",
   "metadata": {},
   "source": [
    "## Energy consumption"
   ]
  },
  {
   "cell_type": "code",
   "execution_count": 31,
   "metadata": {},
   "outputs": [],
   "source": [
    "# Calculate the energy consumption for each state\n",
    "# as the product of the power and the time\n",
    "E_i = P_i * T_i\n",
    "E_wf = P_wf * T_wf\n",
    "E_sr = P_sr * T_sr\n",
    "E_dp = P_dp * T_dp\n",
    "E_tx = P_tx * T_tx"
   ]
  },
  {
   "cell_type": "code",
   "execution_count": 32,
   "metadata": {},
   "outputs": [
    {
     "data": {
      "text/plain": [
       "83686953.83"
      ]
     },
     "execution_count": 32,
     "metadata": {},
     "output_type": "execute_result"
    }
   ],
   "source": [
    "# Calculate the total energy in the active state\n",
    "# as the sum of the energy consumption for each state except the deep sleep state\n",
    "E_active = E_i + E_sr + E_tx + E_wf\n",
    "E_active = round(E_active, 2)\n",
    "E_active"
   ]
  },
  {
   "cell_type": "code",
   "execution_count": 33,
   "metadata": {},
   "outputs": [
    {
     "data": {
      "text/plain": [
       "2274.3"
      ]
     },
     "execution_count": 33,
     "metadata": {},
     "output_type": "execute_result"
    }
   ],
   "source": [
    "# Calculate the total energy consumption per duty cycle\n",
    "E_tot = E_active + E_dp\n",
    "\n",
    "# Convert to mJ\n",
    "E_tot = E_tot * 10e-7\n",
    "E_tot = round(E_tot, 2)\n",
    "\n",
    "E_tot"
   ]
  },
  {
   "cell_type": "code",
   "execution_count": 34,
   "metadata": {},
   "outputs": [
    {
     "data": {
      "text/plain": [
       "4105"
      ]
     },
     "execution_count": 34,
     "metadata": {},
     "output_type": "execute_result"
    }
   ],
   "source": [
    "# Calculate the number of cycles that can be executed\n",
    "# with the available battery capacity\n",
    "cycles = E_battery_milli / E_tot\n",
    "cycles = round(cycles)\n",
    "cycles"
   ]
  },
  {
   "cell_type": "code",
   "execution_count": 35,
   "metadata": {},
   "outputs": [
    {
     "data": {
      "text/plain": [
       "(151885, 105)"
      ]
     },
     "execution_count": 35,
     "metadata": {},
     "output_type": "execute_result"
    }
   ],
   "source": [
    "# Calculate the number of days that the device can be active\n",
    "# with the available battery capacity\n",
    "seconds = cycles * dutyCycle\n",
    "days = seconds / (60 * 24)\n",
    "days = round(days)\n",
    "seconds, days"
   ]
  },
  {
   "cell_type": "code",
   "execution_count": 36,
   "metadata": {},
   "outputs": [
    {
     "name": "stdout",
     "output_type": "stream",
     "text": [
      "E_i = 76843261.83 nJ\n",
      "E_sr = 427645.86 nJ\n",
      "E_wf = 6025940.12 nJ\n",
      "E_tx = 390106.02 nJ\n",
      "E_dp = 2190613444.27 nJ\n",
      "\n",
      "E_active = 83686953.83 nJ\n",
      "E_tot = 2274.30 mJ\n"
     ]
    }
   ],
   "source": [
    "print(\"E_i = %.2f nJ\" % E_i)\n",
    "print(\"E_sr = %.2f nJ\" % E_sr)\n",
    "print(\"E_wf = %.2f nJ\" % E_wf)\n",
    "print(\"E_tx = %.2f nJ\" % E_tx)\n",
    "print(\"E_dp = %.2f nJ\" % E_dp)\n",
    "print()\n",
    "print(\"E_active = %.2f nJ\" % E_active)\n",
    "print(\"E_tot = %.2f mJ\" % E_tot)"
   ]
  },
  {
   "cell_type": "code",
   "execution_count": 37,
   "metadata": {},
   "outputs": [
    {
     "name": "stdout",
     "output_type": "stream",
     "text": [
      "Total energy consumption: 2274.30 J\n",
      "Battery capacity: 9337 J\n",
      "Battery life: 4105 cycles ~ 151885 seconds ~ 105 days`\n"
     ]
    }
   ],
   "source": [
    "print(\"Total energy consumption: %.2f J\" % E_tot)\n",
    "print(\"Battery capacity: %d J\" % E_battery)\n",
    "print(\"Battery life: %d cycles ~ %d seconds ~ %d days`\" % (cycles, seconds, days))"
   ]
  },
  {
   "cell_type": "code",
   "execution_count": 38,
   "metadata": {},
   "outputs": [
    {
     "data": {
      "text/plain": [
       "{'E_active': 83686953.83, 'E_dp': 2190613444.2697997}"
      ]
     },
     "execution_count": 38,
     "metadata": {},
     "output_type": "execute_result"
    }
   ],
   "source": [
    "# Create a dictionary with the calculated energies\n",
    "# for drawing the energy estimation graph\n",
    "dict_energies = {\n",
    "    \"E_active\": E_active,\n",
    "    \"E_dp\": E_dp,\n",
    "}\n",
    "dict_energies"
   ]
  },
  {
   "cell_type": "code",
   "execution_count": 39,
   "metadata": {},
   "outputs": [
    {
     "data": {
      "image/png": "[encoded data removed]",
      "text/plain": [
       "<Figure size 576x576 with 1 Axes>"
      ]
     },
     "metadata": {},
     "output_type": "display_data"
    }
   ],
   "source": [
    "# Extract labels and values from the dictionary\n",
    "labels = list(dict_energies.keys())\n",
    "values = list(dict_energies.values())\n",
    "\n",
    "# Define colors for bars\n",
    "colors = [(1, 0, 0), (0, 1, 0), (0, 0, 1), (1, 0.65, 0)]\n",
    "\n",
    "# Plot pie chart\n",
    "plt.figure(figsize=(8, 8), facecolor='white')\n",
    "plt.pie(values, autopct='%1.1f%%', startangle=140)\n",
    "\n",
    "# Set aspect ratio to be equal to ensure pie is drawn as a circle.\n",
    "plt.axis('equal')\n",
    "\n",
    "# Add legend\n",
    "plt.legend(labels, loc=\"upper right\")\n",
    "\n",
    "# Set title\n",
    "plt.title('Energy Consumption', fontsize=16, pad=20)\n",
    "\n",
    "# Show plot\n",
    "plt.show()"
   ]
  },
  {
   "cell_type": "markdown",
   "metadata": {},
   "source": [
    "## Test with different duty cycles"
   ]
  },
  {
   "cell_type": "code",
   "execution_count": 40,
   "metadata": {},
   "outputs": [
    {
     "name": "stdout",
     "output_type": "stream",
     "text": [
      "Test with 60s of duty cycle\n",
      "E_dp = 3561.87 mJ\n",
      "E_tot = 3645.56 mJ\n",
      "Battery life: 2561 cycles ~ 153660 seconds ~ 106.7 days\n",
      "\n",
      "Test with 90s of duty cycle\n",
      "E_dp = 5350.47 mJ\n",
      "E_tot = 5434.16 mJ\n",
      "Battery life: 1718 cycles ~ 154620 seconds ~ 107.4 days\n",
      "\n",
      "Test with 120s of duty cycle\n",
      "E_dp = 7139.07 mJ\n",
      "E_tot = 7222.76 mJ\n",
      "Battery life: 1293 cycles ~ 155160 seconds ~ 107.8 days\n",
      "\n",
      "Test with 150s of duty cycle\n",
      "E_dp = 8927.67 mJ\n",
      "E_tot = 9011.36 mJ\n",
      "Battery life: 1036 cycles ~ 155400 seconds ~ 107.9 days\n",
      "\n"
     ]
    }
   ],
   "source": [
    "times = [60, 90, 120, 150]    \n",
    "\n",
    "for t_1 in times:\n",
    "    # Calculate the duty cycle for the new period\n",
    "    dutyCycle_1 = t_1\n",
    "    dutyCycle_micros_1 = dutyCycle_1 * 10e+5\n",
    "    \n",
    "    # Calculate the time spent in deep sleep mode with the new duty cycle\n",
    "    T_dp_1 = dutyCycle_micros_1 - t['Deep sleep']\n",
    "   \n",
    "    # Calculate the energy consumption for the deep sleep state \n",
    "    E_dp_1 = P_dp * T_dp_1\n",
    "    E_dp_1 = round(E_dp_1, 2)\n",
    "    \n",
    "    # Calculate the total energy consumption per duty cycle with the new period\n",
    "    # Only the deep sleep state changes\n",
    "    E_tot_1 = E_i + E_wf + E_sr + E_dp_1 + E_tx\n",
    "    \n",
    "    # Convert from us to s and from mW to W\n",
    "    E_tot_1 = E_tot_1 * 10e-7\n",
    "    E_tot_1 = round(E_tot_1, 2)\n",
    "    \n",
    "    # Calculate the number of cycles that can be executed with the available battery capacity\n",
    "    cycles_1 = E_battery_milli / E_tot_1\n",
    "    cycles_1 = round(cycles_1)\n",
    "    \n",
    "    # Calculate the number of days that the device can be active with the available battery capacity\n",
    "    seconds_1 = cycles_1 * dutyCycle_1\n",
    "    \n",
    "    # Convert from seconds to days\n",
    "    days_1 = seconds_1 / (60 * 24)\n",
    "    days_1 = round(days_1, 1)\n",
    "    \n",
    "    print(\"Test with %ds of duty cycle\" % t_1)\n",
    "    print(\"E_dp = %.2f mJ\" % round(E_dp_1 * 10e-7, 2))\n",
    "    print(\"E_tot = %.2f mJ\" % E_tot_1)\n",
    "    print(\"Battery life: %d cycles ~ %d seconds ~ %.1f days\" % (cycles_1, seconds_1, days_1))\n",
    "    print()"
   ]
  }
 ],
 "metadata": {
  "kernelspec": {
   "display_name": "Python 3",
   "language": "python",
   "name": "python3"
  },
  "language_info": {
   "codemirror_mode": {
    "name": "ipython",
    "version": 3
   },
   "file_extension": ".py",
   "mimetype": "text/x-python",
   "name": "python",
   "nbconvert_exporter": "python",
   "pygments_lexer": "ipython3",
   "version": "3.10.12"
  }
 },
 "nbformat": 4,
 "nbformat_minor": 2
}
