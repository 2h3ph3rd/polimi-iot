{
 "cells": [
  {
   "cell_type": "markdown",
   "metadata": {},
   "source": [
    "To answer the questions I used the Python library Scapy together with Wireshark.\n",
    "\n",
    "I have reported the answers to all the questions with the code used and important screenshots of the Wireshark filters.\n",
    "\n",
    "My assumption was that each client was assigned a unique unregistered port, whereas the servers were running only on default ports.\n",
    "\n",
    "The Jupyter notebook is also available at the following link:\n",
    "\n",
    "[https://gist.github.com/pastore-francesco/fc709ebeb633ccab6b3d500551c418e6](https://gist.github.com/pastore-francesco/fc709ebeb633ccab6b3d500551c418e6)"
   ]
  },
  {
   "cell_type": "code",
   "execution_count": 1,
   "metadata": {},
   "outputs": [],
   "source": [
    "import datetime\n",
    "\n",
    "from scapy.all import rdpcap, bind_bottom_up, bind_layers\n",
    "from scapy.contrib.coap import CoAP\n",
    "from scapy.layers.inet import IP, UDP, TCP\n",
    "from scapy.layers.dns import DNSRR\n",
    "from scapy.contrib.mqtt import MQTT, MQTTSubscribe\n",
    "from scapy.contrib.mqtt import MQTTTopicQOS, MQTTConnect, MQTTPublish\n",
    "from scapy.contrib.mqttsn import MQTTSN, MQTTSNPublish"
   ]
  },
  {
   "cell_type": "code",
   "execution_count": 2,
   "metadata": {},
   "outputs": [],
   "source": [
    "# Overwrite ports configuration for CoAP\n",
    "bind_layers(UDP, CoAP, sport=5683)\n",
    "bind_layers(UDP, CoAP, dport=5683)"
   ]
  },
  {
   "cell_type": "code",
   "execution_count": 3,
   "metadata": {},
   "outputs": [],
   "source": [
    "# Overwrite ports configuration for MQTT\n",
    "bind_layers(TCP, MQTT, sport=1883)\n",
    "bind_layers(TCP, MQTT, dport=1883)"
   ]
  },
  {
   "cell_type": "code",
   "execution_count": 4,
   "metadata": {},
   "outputs": [],
   "source": [
    "# Overwrite ports configuration for MQTT-SN\n",
    "bind_bottom_up(UDP, MQTTSN, sport=1885)\n",
    "bind_bottom_up(UDP, MQTTSN, dport=1885)\n",
    "bind_layers(UDP, MQTTSN, dport=1885, sport=1885)"
   ]
  },
  {
   "cell_type": "code",
   "execution_count": 5,
   "metadata": {},
   "outputs": [
    {
     "name": "stderr",
     "output_type": "stream",
     "text": [
      "WARNING: Invalid Option Delta or Length\n",
      "WARNING: Invalid Option Delta or Length\n",
      "WARNING: Invalid Option Length or Delta 15\n",
      "WARNING: Invalid Option Length or Delta 15\n",
      "WARNING: more Invalid Option Delta or Length\n",
      "WARNING: more Invalid Option Length or Delta 15\n"
     ]
    }
   ],
   "source": [
    "packets = rdpcap(\"./challenge2.pcapng\")"
   ]
  },
  {
   "cell_type": "markdown",
   "metadata": {},
   "source": [
    "# Questions"
   ]
  },
  {
   "cell_type": "markdown",
   "metadata": {},
   "source": [
    "## Question 1a\n",
    "\n",
    "How many different CoAP clients sent a GET request to a temperature resource (.../temperature)?\n",
    "\n",
    "Answer: 8\n",
    "\n",
    "The answer is given by filtering the packets that have the GET method and the URI path ending in \"/temperature\".\n",
    "\n",
    "After filtering, I counted the number of unique ports that sent the packets."
   ]
  },
  {
   "cell_type": "code",
   "execution_count": 6,
   "metadata": {},
   "outputs": [
    {
     "data": {
      "text/plain": [
       "8"
      ]
     },
     "execution_count": 6,
     "metadata": {},
     "output_type": "execute_result"
    }
   ],
   "source": [
    "# List of clients needed to avoid duplicates\n",
    "clients_1 = []\n",
    "count = 0\n",
    "for p in packets:\n",
    "    if (\n",
    "        p.haslayer(CoAP) # Only CoAP Packets\n",
    "        and p[CoAP].code == 1 # Only GET requests\n",
    "    ):\n",
    "        # Check if the Uri-Path contains 'temperature'\n",
    "        found = False\n",
    "        for option in p[CoAP].options:\n",
    "            if option[0] != 'Uri-Path':\n",
    "                continue\n",
    "            \n",
    "            # Uri-Path is split into segments\n",
    "            # Check if at least one segment is 'temperature'\n",
    "            # There is no temperature/... but only .../temperature\n",
    "            # So we don't need to check the whole string\n",
    "            if option[1] == b'temperature':\n",
    "                found = True\n",
    "                break\n",
    "\n",
    "        if not found:\n",
    "            continue\n",
    "\n",
    "        # Each client has a unique port\n",
    "        client = p[UDP].sport\n",
    "        if client in clients_1:\n",
    "            continue\n",
    "        \n",
    "        clients_1.append(client)\n",
    "\n",
    "        count += 1\n",
    "\n",
    "count"
   ]
  },
  {
   "cell_type": "markdown",
   "metadata": {},
   "source": [
    "## Question 1b\n",
    "\n",
    "For each of the clients found in 1a, write the MID of the longest CoAP response (any response) received by the client\n",
    "\n",
    "Answer: 25, 26, 29, 63, 7365, 10589, 12426, 47747\n",
    "\n",
    "The answer is given by filtering the packets, looking only for CoAP responses related to the previous clients.\n",
    "\n",
    "I then checked the length of each CoAP response and stored its MID.\n",
    "\n",
    "I considered the CoAP length and not the packet length because it was asked for \"the longest CoAP response\" not the longest packet."
   ]
  },
  {
   "cell_type": "code",
   "execution_count": 7,
   "metadata": {},
   "outputs": [
    {
     "data": {
      "text/plain": [
       "[25, 26, 29, 63, 7365, 10589, 12426, 47747]"
      ]
     },
     "execution_count": 7,
     "metadata": {},
     "output_type": "execute_result"
    }
   ],
   "source": [
    "# Prepare the list of responses for each client\n",
    "# We need to store the length and the MID to find the largest response\n",
    "responses = {}\n",
    "for client in clients_1:\n",
    "    responses[client] = {'length': 0, 'MID': 0}\n",
    "\n",
    "for p in packets:\n",
    "    if (\n",
    "        p.haslayer(CoAP) # Only CoAP Packets\n",
    "        and p[CoAP].code >= 64 # Only responses\n",
    "        and p.haslayer(UDP) # Only UDP Packets\n",
    "    ):\n",
    "        # Check if the response is for one of the previous clients\n",
    "        client = p[UDP].dport\n",
    "        if client not in clients_1:\n",
    "            continue\n",
    "\n",
    "        # Check if the length is greater than the previous one\n",
    "        length = p[UDP].len\n",
    "        if length > responses[client]['length']:\n",
    "            responses[client]['length'] = length\n",
    "            responses[client]['MID'] = p[CoAP].msg_id\n",
    "\n",
    "mids = []\n",
    "for _, v in responses.items():\n",
    "    mids.append(v['MID'])\n",
    "\n",
    "mids.sort()\n",
    "\n",
    "mids"
   ]
  },
  {
   "cell_type": "markdown",
   "metadata": {},
   "source": [
    "## Question 2a\n",
    "\n",
    "How many CoAP POST requests directed to the \"coap.me\" server did NOT produce a successful result?\n",
    "\n",
    "Answer: 18\n",
    "\n",
    "The answer is given by three scans of the packets:\n",
    "\n",
    "1. Check the DNS packet responses for the coap.me server to find all possible IPs.\n",
    "2. Find all POST requests to the coap.me server and store their mids and tokens using previous IPs as destination.\n",
    "3. Find all the responses from the coap.me server with the previous tokens or mids and check their status code.\n",
    "\n",
    "Based on what I found, CoAP requests and responses should be matched through the token.\n",
    "\n",
    "[https://en.wikipedia.org/wiki/Constrained_Application_Protocol#Token](https://en.wikipedia.org/wiki/Constrained_Application_Protocol#Token)\n",
    "\n",
    "However, looking with Wireshark I found out that multipart requests have empty tokens and instead the MID is constant with the request.\n",
    "\n",
    "For this reason to match requests and responses I used both the tokens and the mids.\n",
    "\n",
    "Also, there is one request with no response and because it was asked for a not successful result and not for a wrong result, I count it too.\n",
    "\n",
    "This request was sent to the path /hello."
   ]
  },
  {
   "cell_type": "markdown",
   "metadata": {},
   "source": [
    "In a standard POST request with a bad response we can see that the token remains the same while the MID changes (next image).\n",
    "\n",
    "![](./2a_1.png)"
   ]
  },
  {
   "cell_type": "markdown",
   "metadata": {},
   "source": [
    "In the POST request inside a multipart request we can see that the token is empty but the MID is the same (next image).\n",
    "\n",
    "![](./2a_2.png)"
   ]
  },
  {
   "cell_type": "markdown",
   "metadata": {},
   "source": [
    "In the POST request to /hello we can see that no answer is found by matching the token, the MID, or the UDP stream (next image).\n",
    "\n",
    "![](./2a_3.png)"
   ]
  },
  {
   "cell_type": "code",
   "execution_count": 8,
   "metadata": {},
   "outputs": [
    {
     "name": "stdout",
     "output_type": "stream",
     "text": [
      "coap.me IPs: {'134.102.218.18'}\n"
     ]
    }
   ],
   "source": [
    "# Find IPs of the coap.me server by looking to the DNS requests\n",
    "coapme = []\n",
    "for p in packets:\n",
    "    if (p.haslayer(DNSRR) # Only DNS Resource Record packets\n",
    "        and p[DNSRR].type == 1 # Only records of type A\n",
    "        # Only records for the coap.me server\n",
    "        and p[DNSRR].rrname == b'coap.me.'\n",
    "    ):\n",
    "        # Save the IP of the coap.me server\n",
    "        coapme.append(p[DNSRR].rdata)\n",
    "\n",
    "# Only unique IPs\n",
    "coapme = set(coapme)\n",
    "\n",
    "print(\"coap.me IPs:\", coapme)"
   ]
  },
  {
   "cell_type": "code",
   "execution_count": 9,
   "metadata": {},
   "outputs": [
    {
     "name": "stdout",
     "output_type": "stream",
     "text": [
      "Found 27 tokens and 34 mids of CoAP requests\n"
     ]
    }
   ],
   "source": [
    "# Find all CoAP requests to coap.me server saving the tokens\n",
    "# that will be used to find the responses\n",
    "requests_tokens_2 = []\n",
    "requests_mids_2 = []\n",
    "for p in packets:\n",
    "    if (\n",
    "        p.haslayer(CoAP) # Only CoAP Packets\n",
    "        and p[CoAP].code == 2 # Only POST requests\n",
    "        and p[IP].dst in coapme # Only requests to the coap.me server\n",
    "    ):\n",
    "        # Block requests have empty tokens\n",
    "        if p[CoAP].token != b'':\n",
    "            requests_tokens_2.append(p[CoAP].token)\n",
    "\n",
    "        requests_mids_2.append(p[CoAP].msg_id)\n",
    "\n",
    "print(\"Found %d tokens and %d mids of CoAP requests\"\n",
    "    % (len(requests_tokens_2), len(requests_mids_2)))"
   ]
  },
  {
   "cell_type": "code",
   "execution_count": 10,
   "metadata": {},
   "outputs": [
    {
     "name": "stdout",
     "output_type": "stream",
     "text": [
      "Found 33 responses of which 17 are bad\n"
     ]
    }
   ],
   "source": [
    "# Find all CoAP responses to the previous requests\n",
    "# searching only for the ones with a bad status code\n",
    "responses_count_2 = 0\n",
    "bad_responses_tokens_2 = []\n",
    "bad_responses_mids_2 = []\n",
    "for p in packets:\n",
    "    if (\n",
    "        p.haslayer(CoAP)  # Only CoAP Packets\n",
    "        and p.haslayer(UDP)  # Only UDP Packets\n",
    "        and p[CoAP].code > 64  # Only responses\n",
    "        and (  # Only responses to the previous requests\n",
    "            p[CoAP].token in requests_tokens_2  # Check token\n",
    "            or p[CoAP].msg_id in requests_mids_2  # Check mid\n",
    "        )\n",
    "    ):\n",
    "        # Increment the total responses count\n",
    "        responses_count_2 += 1\n",
    "\n",
    "        # Save bad responses\n",
    "        if p[CoAP].code > 127:\n",
    "            bad_responses_tokens_2.append(p[CoAP].token)\n",
    "            bad_responses_mids_2.append(p[CoAP].msg_id)\n",
    "\n",
    "print(\"Found %d responses of which %d are bad\"\n",
    "    % (responses_count_2, len(bad_responses_mids_2)))"
   ]
  },
  {
   "cell_type": "markdown",
   "metadata": {},
   "source": [
    "## Question 2b\n",
    "\n",
    "How many requests from 2a are directed to a \"weird\" resource? (resources like /weirdXX)?\n",
    "\n",
    "Answer: 8\n",
    "\n",
    "The answer is given by filtering the packets, looking only for CoAP requests related to the previous clients.\n",
    "\n",
    "I then checked the uri_path of each CoAP request and stored the number of requests with the string \"weird\" in the uri_path."
   ]
  },
  {
   "cell_type": "code",
   "execution_count": 11,
   "metadata": {},
   "outputs": [
    {
     "data": {
      "text/plain": [
       "8"
      ]
     },
     "execution_count": 11,
     "metadata": {},
     "output_type": "execute_result"
    }
   ],
   "source": [
    "count = 0\n",
    "for p in packets:\n",
    "    if (\n",
    "        p.haslayer(CoAP) # Only CoAP Packets\n",
    "        and (  # Only previous requests\n",
    "            p[CoAP].token in requests_tokens_2  # Check token\n",
    "            or p[CoAP].msg_id in requests_mids_2  # Check mid\n",
    "        )\n",
    "    ):\n",
    "        # Check if the request has a 'weird' segment in the Uri-Path\n",
    "        found = False\n",
    "        for option in p[CoAP].options:\n",
    "            if option[0] != 'Uri-Path':\n",
    "                continue\n",
    "            \n",
    "            if b'weird' in option[1]:\n",
    "                found = True\n",
    "                break\n",
    "                \n",
    "        # If no 'weird' segment is found, continue\n",
    "        if not found:\n",
    "            continue\n",
    "\n",
    "        count += 1\n",
    "\n",
    "count"
   ]
  },
  {
   "cell_type": "markdown",
   "metadata": {},
   "source": [
    "## Question 3a\n",
    "\n",
    "How many MQTT Publish messages with qos=2 are RECEIVED by the clients running in the machine capturing the traffic?\n",
    "\n",
    "Answer: 2\n",
    "\n",
    "The answer is given by filtering the packets, looking only for MQTT Publish (type 3) messages with QoS set to 2.\n",
    "\n",
    "The destination port must be different then the default one (1883) to find received messages."
   ]
  },
  {
   "cell_type": "code",
   "execution_count": 12,
   "metadata": {},
   "outputs": [
    {
     "data": {
      "text/plain": [
       "2"
      ]
     },
     "execution_count": 12,
     "metadata": {},
     "output_type": "execute_result"
    }
   ],
   "source": [
    "# Save clients and topics for next questions\n",
    "clients_3 = []\n",
    "topics_3 = []\n",
    "\n",
    "count = 0\n",
    "for p in packets:\n",
    "    if (\n",
    "        p.haslayer(MQTT) # Only MQTT packets\n",
    "        and p[MQTT].type == 3 # Only PUBLISH packets\n",
    "        and p[MQTT].QOS == 2 # Only QoS 2 packets\n",
    "        and p[TCP].dport != 1883 # Only packets received by clients\n",
    "    ):\n",
    "        count += 1\n",
    "        clients_3.append(p[TCP].dport)\n",
    "        topics_3.append(p[MQTT].topic)\n",
    "\n",
    "count"
   ]
  },
  {
   "cell_type": "markdown",
   "metadata": {},
   "source": [
    "## Question 3b\n",
    "\n",
    "How many clients are involved in the messages found in 3a?\n",
    "\n",
    "Answer: 1\n",
    "\n",
    "The answer is given by counting the number of unique clients (ports) that were found in the previous question."
   ]
  },
  {
   "cell_type": "code",
   "execution_count": 13,
   "metadata": {},
   "outputs": [
    {
     "data": {
      "text/plain": [
       "1"
      ]
     },
     "execution_count": 13,
     "metadata": {},
     "output_type": "execute_result"
    }
   ],
   "source": [
    "clients_3 = set(clients_3)\n",
    "len(clients_3)"
   ]
  },
  {
   "cell_type": "markdown",
   "metadata": {},
   "source": [
    "## Question 3c\n",
    "\n",
    "What are the MQTT Message identifiers (ID) of the subscribe requests that let the client receive the messages found in 3a?\n",
    "\n",
    "Answer: 15\n",
    "\n",
    "The answer is given by filtering the packets, looking only for MQTT Subscribe (type 8) messages that are related to the previous clients.\n",
    "\n",
    "Each subscribe message then must be checked to see if it is related to the previous topics.\n",
    "\n",
    "In particular the topics of the previous publish messages are:\n",
    "\n",
    "- hospital/facility2/section0\n",
    "- hospital/facility2/room4/temperature\n",
    "\n",
    "Because there is only one client and there are many combinations to check I used Wireshark to find the answer.\n",
    "\n",
    "```\n",
    "mqtt and mqtt.msgtype == 8 and tcp.srcport == 59385 and tcp.dstport == 1883\n",
    "```\n",
    "\n",
    "Possible valid combinations:\n",
    "\n",
    "- hospital/#\n",
    "- hospital/facility2/#\n",
    "- hospital/facility2/room4/+\n",
    "- hospital/+/room4/temperature\n",
    "- hospital/facility2/section0\n",
    "- hospital/+/section0\n",
    "- ...\n",
    "\n",
    "In the end, only the subscribe message with the topic hospital/# and ID 15 was found."
   ]
  },
  {
   "cell_type": "markdown",
   "metadata": {},
   "source": [
    "![](./3c.png)"
   ]
  },
  {
   "cell_type": "code",
   "execution_count": 14,
   "metadata": {},
   "outputs": [
    {
     "data": {
      "text/plain": [
       "[b'hospital/facility2/section0', b'hospital/facility2/room4/temperature']"
      ]
     },
     "execution_count": 14,
     "metadata": {},
     "output_type": "execute_result"
    }
   ],
   "source": [
    "topics_3"
   ]
  },
  {
   "cell_type": "code",
   "execution_count": 15,
   "metadata": {},
   "outputs": [
    {
     "data": {
      "text/plain": [
       "{59385}"
      ]
     },
     "execution_count": 15,
     "metadata": {},
     "output_type": "execute_result"
    }
   ],
   "source": [
    "clients_3"
   ]
  },
  {
   "cell_type": "markdown",
   "metadata": {},
   "source": [
    "## Question 4a\n",
    "\n",
    "How many MQTT clients sent a subscribe message to a public broker using at least one wildcard?\n",
    "\n",
    "Answer: 4\n",
    "\n",
    "The answer is given by filtering the packets, looking only for MQTT Subscribe (type 8) messages that are related to a public broker.\n",
    "\n",
    "This is done by checking the destination IP of the packets to be different from the local IP.\n",
    "\n",
    "Then each subscribe message must be checked to see if it contains a wildcard '+' or '#'."
   ]
  },
  {
   "cell_type": "code",
   "execution_count": 31,
   "metadata": {},
   "outputs": [
    {
     "data": {
      "text/plain": [
       "4"
      ]
     },
     "execution_count": 31,
     "metadata": {},
     "output_type": "execute_result"
    }
   ],
   "source": [
    "# Save topics for next questions\n",
    "topics_4 = []\n",
    "clients_4 = []\n",
    "for p in packets:\n",
    "    if (\n",
    "        p.haslayer(MQTT) # Only MQTT packets\n",
    "        and p[MQTT].type == 8 # Only SUBSCRIBE packets\n",
    "        and p[TCP].dport == 1883 # Only packets to the MQTT Broker\n",
    "        and p[IP].dst != \"127.0.0.1\" # Only packets not to localhost\n",
    "        and p.haslayer(MQTTTopicQOS) # Only packets with a list of topics\n",
    "    ):\n",
    "        # Check if the topic has at least one wildcard\n",
    "        found = False\n",
    "        for topic in p[MQTTSubscribe].topics:\n",
    "            t = topic[MQTTTopicQOS].topic\n",
    "            if b'+' in t or b'#' in t:\n",
    "                # In some topics the length of the topics\n",
    "                # and the topic itself are different\n",
    "                # Probably there is something wrong with the parsing\n",
    "                # This is an issue for the next questions\n",
    "                # l = topic[MQTTTopicQOS].length\n",
    "                # print(t, l, len(t) == l)\n",
    "                topics_4.append(t)\n",
    "                found = True\n",
    "                break\n",
    "                \n",
    "        if not found:\n",
    "            continue\n",
    "        \n",
    "        clients_4.append(p[TCP].sport)\n",
    "\n",
    "# Only unique clients\n",
    "clients_4 = set(clients_4)\n",
    "\n",
    "len(clients_4)"
   ]
  },
  {
   "cell_type": "markdown",
   "metadata": {},
   "source": [
    "If we use Wireshark we could find the same result by applying the following filter:\n",
    "\n",
    "```\n",
    "mqtt and mqtt.msgtype == 8 and tcp.dstport == 1883 and ip.dst != 127.0.0.1 \n",
    "    and (mqtt.topic contains \"+\" or mqtt.topic contains \"#\")\n",
    "```\n",
    "\n",
    "![picture](./4a.png)"
   ]
  },
  {
   "cell_type": "markdown",
   "metadata": {},
   "source": [
    "## Question 4b\n",
    "\n",
    "Considering clients found in 4a, how many of them WOULD receive a publish message directed to the topic: \"metaverse/facility4/area0/light\"?\n",
    "\n",
    "Answer: 2\n",
    "\n",
    "Only the subscribe requests with topic `metaverse/facility4/+/light` and  `metaverse/+/area0/light` from two different clients will receive a publish message about `metaverse/facility4/area0/light`\n",
    "\n",
    "There is a problem in Scapy for parsing the topics, so the answer was found by using Wireshark. "
   ]
  },
  {
   "cell_type": "code",
   "execution_count": 17,
   "metadata": {},
   "outputs": [
    {
     "name": "stdout",
     "output_type": "stream",
     "text": [
      "b'factory/facility4/+'\n",
      "b'taverse/department2/+/pollution\\x01'\n",
      "b'factory/+'\n",
      "b'spital/+/+\\x00'\n",
      "b'metaverse/room3/#'\n",
      "b'taverse/+/area0/light\\x01'\n",
      "b'hospital/kcbplh/#'\n",
      "b'hospital/+'\n",
      "b'house/building3/floor5/+'\n",
      "b'metaverse/kcbplh/floor5/#'\n",
      "b'ctory/+/area0\\x00'\n",
      "b'taverse/+/floor5\\x01'\n",
      "b'use/+\\x02'\n",
      "b'metaverse/facility4/+/light'\n",
      "b'ctory/facility4/area0/+\\x02'\n",
      "b'hospital/+'\n",
      "b'metaverse/+/area0/humidity'\n",
      "b'factory/building3/#'\n",
      "b'university/kcbplh/+'\n",
      "b'hospital/#'\n",
      "b'metaverse/kcbplh/#'\n"
     ]
    }
   ],
   "source": [
    "# List of topics from previous question\n",
    "# Some of them are malformed with not printable characters\n",
    "for t in topics_4:\n",
    "    print(t)"
   ]
  },
  {
   "cell_type": "markdown",
   "metadata": {},
   "source": [
    "Using the same filter of the previous question, we can see that there are only two possible topics that satisfy the request:\n",
    "\n",
    "- metaverse/facility4/+/light\n",
    "- metaverse/+/area0/light\n",
    "\n",
    "\n",
    "![picture](./4b.png)"
   ]
  },
  {
   "cell_type": "markdown",
   "metadata": {},
   "source": [
    "## Question 5\n",
    "\n",
    "How many MQTT ACK messages in total are received by clients who connected to brokers specifying a client identifier shorter than 15 bytes and using MQTT version 3.1.1?\n",
    "\n",
    "Answer: 233\n",
    "\n",
    "The answer is given by first finding all the clients that have sent a CONNECT message with a client id shorter than 15 bytes and MQTT version 3.1.1\n",
    "\n",
    "After that we have to directly count all the ACK messages that are received by these clients.\n",
    "\n",
    "I didn't consider if the clients have done multiple connections with different ids.\n",
    "\n",
    "Instead, I interpreted it as if at least one connection was done as required than count all the ACK messages for these clients.\n",
    "\n",
    "For the ACK messages I considered the following types:\n",
    "\n",
    "\n",
    "| msg      | type |\n",
    "| -------- | ---- |\n",
    "| CONNACK  | 2    |\n",
    "| PUBACK   | 4    |\n",
    "| PUBREC   | 5    |\n",
    "| PUBREL   | 6    |\n",
    "| PUBCOMP  | 7    |\n",
    "| SUBACK   | 9    |\n",
    "| UNSUBACK | 11   |"
   ]
  },
  {
   "cell_type": "code",
   "execution_count": 18,
   "metadata": {},
   "outputs": [
    {
     "name": "stdout",
     "output_type": "stream",
     "text": [
      "Found 2 clients\n"
     ]
    }
   ],
   "source": [
    "# Save clients between first and second filter\n",
    "clients_5 = []\n",
    "\n",
    "# We need to find first all the clients that have connected to a MQTT broker\n",
    "# with a client id that is shorter than 15 bytes and using MQTT version 3.1.1.\n",
    "for p in packets:\n",
    "    if (\n",
    "        p.haslayer(MQTT) # Only MQTT packets\n",
    "        and p.haslayer(MQTTConnect) # Only connect packets\n",
    "        and p[MQTTConnect].protolevel == 4 # Check MQTT version to be 3.1.1 (4)\n",
    "        and len(p[MQTTConnect].clientId) < 15\n",
    "    ):\n",
    "        clients_5.append(p[TCP].sport)\n",
    "\n",
    "# Only unique clients\n",
    "clients_5 = set(clients_5)\n",
    "\n",
    "print(\"Found %d clients\" % len(clients_5))"
   ]
  },
  {
   "cell_type": "code",
   "execution_count": 19,
   "metadata": {},
   "outputs": [
    {
     "data": {
      "text/plain": [
       "233"
      ]
     },
     "execution_count": 19,
     "metadata": {},
     "output_type": "execute_result"
    }
   ],
   "source": [
    "# Once we have the right clients, we can simply count the number\n",
    "# of ACK packets that are sent by a MQTT Broker to these clients\n",
    "count = 0\n",
    "for p in packets:\n",
    "    if (\n",
    "        p.haslayer(MQTT) # Only MQTT packets\n",
    "        and p[MQTT].type in [2, 4, 5, 6, 7, 9, 11] # Only ACK packets\n",
    "        and p[TCP].dport in clients_5 # Only packets to the clients\n",
    "    ): \n",
    "        count += 1\n",
    "\n",
    "count"
   ]
  },
  {
   "cell_type": "markdown",
   "metadata": {},
   "source": [
    "## Question 6a\n",
    "\n",
    "How many MQTT subscribe requests with message ID=1 are directed to the HiveMQ broker?\n",
    "\n",
    "Answer: 3\n",
    "\n",
    "The answer is given by first finding all the IPs of the HiveMQ broker.\n",
    "\n",
    "In order to find them, we have to check all DNS resource records for \"broker.hivemq.com\" and saving the related IPs.\n",
    "\n",
    "After that, we have to find all the MQTT subscribe requests with message ID=1 and directed to one of the IPs found before."
   ]
  },
  {
   "cell_type": "code",
   "execution_count": 20,
   "metadata": {},
   "outputs": [
    {
     "name": "stdout",
     "output_type": "stream",
     "text": [
      "HiveMQ IPs: {'3.65.168.153', '3.66.35.116'}\n"
     ]
    }
   ],
   "source": [
    "# Find IPs of the HiveMQ server by looking to the DNS requests\n",
    "hivemq = []\n",
    "for p in packets:\n",
    "    if (\n",
    "        p.haslayer(DNSRR) # Only DNS Resource Record packets\n",
    "        and p[DNSRR].type == 1 # Only records of type A\n",
    "        # Only records for the HiveMQ server\n",
    "        and p[DNSRR].rrname == b'broker.hivemq.com.'\n",
    "    ):\n",
    "        # Save the IP of the coap.me server\n",
    "        hivemq.append(p[DNSRR].rdata)\n",
    "\n",
    "# Only unique IPs\n",
    "hivemq = set(hivemq)\n",
    "\n",
    "print(\"HiveMQ IPs:\", hivemq)"
   ]
  },
  {
   "cell_type": "code",
   "execution_count": 21,
   "metadata": {},
   "outputs": [
    {
     "data": {
      "text/plain": [
       "3"
      ]
     },
     "execution_count": 21,
     "metadata": {},
     "output_type": "execute_result"
    }
   ],
   "source": [
    "# Save topics and clients for next questions\n",
    "topics_6 = []\n",
    "clients_6 = []\n",
    "\n",
    "# Search for subscribe messages to the HiveMQ server\n",
    "# with message id 1 using previous IPs\n",
    "count = 0\n",
    "for p in packets:\n",
    "    if (\n",
    "        p.haslayer(MQTTSubscribe) # Only MQTT SUBSCRIBE packets\n",
    "        and p[MQTTSubscribe].msgid == 1 # Only message id 1\n",
    "        and p[IP].dst in hivemq # Only packets to the HiveMQ server\n",
    "    ):\n",
    "        count += 1\n",
    "        topics_6.append(p[MQTTSubscribe].topics)\n",
    "        clients_6.append(p[TCP].sport)\n",
    "\n",
    "count"
   ]
  },
  {
   "cell_type": "markdown",
   "metadata": {},
   "source": [
    "## Question 6b\n",
    "\n",
    "How many publish messages are received by the clients thanks to the subscribe requests found in 6a?\n",
    "\n",
    "Answer: 0\n",
    "\n",
    "The answer is given by finding all the MQTT publish messages with the same topic of the subscribe requests found in 6a.\n",
    "\n",
    "The subscribe requests have the following topics:\n",
    "\n",
    "- hospital/department5/room4\n",
    "- hospital/kcbplh/#\n",
    "\n",
    "The publish requests have the following topics:\n",
    "\n",
    "- hospital/department5/room4\n",
    "- factory/room2\n",
    "- factory/department5\n",
    "- factory/building5\n",
    "- factory/department5\n",
    "- factory/room2\n",
    "- hospital/facility2/section0\n",
    "- hospital/facility2/room4/temperature\n",
    "- hospital/room2/floor1\n",
    "- factory/facility2\n",
    "\n",
    "There is no match between the topics, so no publish message is received by the clients due to the subscription requests found in 6a."
   ]
  },
  {
   "cell_type": "code",
   "execution_count": 22,
   "metadata": {},
   "outputs": [
    {
     "name": "stdout",
     "output_type": "stream",
     "text": [
      "university/department2/floor5\n",
      "\n",
      "hospital/kcbplh/#\n"
     ]
    }
   ],
   "source": [
    "# Subscribe messages from previous question\n",
    "for t in topics_6:\n",
    "    print(t[0][MQTTTopicQOS].topic.decode())"
   ]
  },
  {
   "cell_type": "code",
   "execution_count": 23,
   "metadata": {},
   "outputs": [
    {
     "name": "stdout",
     "output_type": "stream",
     "text": [
      "hospital/department5/room4\n",
      "factory/room2\n",
      "factory/department5\n",
      "factory/building5\n",
      "factory/department5\n",
      "factory/room2\n",
      "hospital/facility2/section0\n",
      "hospital/facility2/room4/temperature\n",
      "hospital/room2/floor1\n",
      "factory/facility2\n"
     ]
    }
   ],
   "source": [
    "# Print topics of all publish messages to the previous clients\n",
    "for packet in packets:\n",
    "    if (\n",
    "        packet.haslayer(MQTTPublish)  # Only MQTT Publish packets\n",
    "        and packet[TCP].dport in clients_6  # Only previous clients\n",
    "    ):\n",
    "        print(packet[MQTTPublish].topic.decode())"
   ]
  },
  {
   "cell_type": "markdown",
   "metadata": {},
   "source": [
    "## Question 7a\n",
    "\n",
    "How many MQTT-SN (on port 1885) publish messages sent after the hour 3.59PM (Milan Time) are directed to topic 6?\n",
    "\n",
    "Answer: 3\n",
    "\n",
    "The answer is given by filtering the packets, looking only for MQTT-SN Publish (type 3) messages that are related to the topic 6 and sent after the hour 3.59PM (Milan Time)."
   ]
  },
  {
   "cell_type": "code",
   "execution_count": 24,
   "metadata": {},
   "outputs": [
    {
     "data": {
      "text/plain": [
       "3"
      ]
     },
     "execution_count": 24,
     "metadata": {},
     "output_type": "execute_result"
    }
   ],
   "source": [
    "count = 0\n",
    "for packet in packets:\n",
    "    packet_time = datetime.datetime.fromtimestamp(int(packet.time)).time()\n",
    "    if (packet.haslayer(UDP) # Only UDP packets\n",
    "        and packet.haslayer(MQTTSNPublish) # Only MQTT-SN Publish packets\n",
    "        and packet_time > datetime.time(15, 59) # Only packets after 15:59\n",
    "        and packet[MQTTSNPublish].tid == 6 # Only packets with tid 6\n",
    "    ):\n",
    "        count += 1\n",
    "        \n",
    "count"
   ]
  },
  {
   "cell_type": "markdown",
   "metadata": {},
   "source": [
    "## Question 7b\n",
    "\n",
    "Explain possible reasons why messages in 7a are not handled by the server\n",
    "\n",
    "Answer\n",
    "\n",
    "Each message in 7a receive a ICMP Destination Unreachable response indicating possible issues beyond MQTT-SN itself.\n",
    "\n",
    "A firewall might be blocking the port necessary for communication, the server may not be running, or it could be accessible via a different port."
   ]
  },
  {
   "cell_type": "markdown",
   "metadata": {},
   "source": [
    "![](./7b.png)"
   ]
  }
 ],
 "metadata": {
  "kernelspec": {
   "display_name": "Python 3",
   "language": "python",
   "name": "python3"
  },
  "language_info": {
   "codemirror_mode": {
    "name": "ipython",
    "version": 3
   },
   "file_extension": ".py",
   "mimetype": "text/x-python",
   "name": "python",
   "nbconvert_exporter": "python",
   "pygments_lexer": "ipython3",
   "version": "3.10.12"
  }
 },
 "nbformat": 4,
 "nbformat_minor": 2
}
